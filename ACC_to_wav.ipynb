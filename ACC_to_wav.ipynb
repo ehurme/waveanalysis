{
 "cells": [
  {
   "cell_type": "code",
   "execution_count": 1,
   "id": "f9313e28",
   "metadata": {},
   "outputs": [],
   "source": [
    "import pandas as pd"
   ]
  },
  {
   "cell_type": "code",
   "execution_count": 13,
   "id": "8e95913f",
   "metadata": {},
   "outputs": [],
   "source": [
    "from scipy.io.wavfile import write\n"
   ]
  },
  {
   "cell_type": "code",
   "execution_count": 11,
   "id": "a61969bf",
   "metadata": {},
   "outputs": [],
   "source": [
    "df=pd.read_csv(\"Filename_selection_split#5_0.txt\",sep=\"\\t\",index_col='Time')"
   ]
  },
  {
   "cell_type": "code",
   "execution_count": 14,
   "id": "89d14646",
   "metadata": {},
   "outputs": [],
   "source": [
    "df1=df.iloc[:,:3]\n"
   ]
  },
  {
   "cell_type": "code",
   "execution_count": 15,
   "id": "677bfc1f",
   "metadata": {},
   "outputs": [],
   "source": [
    "write(\"test.wav\",rate=25,data=df1.values)"
   ]
  }
 ],
 "metadata": {
  "hide_input": false,
  "kernelspec": {
   "display_name": "Python 3 (ipykernel)",
   "language": "python",
   "name": "python3"
  },
  "language_info": {
   "codemirror_mode": {
    "name": "ipython",
    "version": 3
   },
   "file_extension": ".py",
   "mimetype": "text/x-python",
   "name": "python",
   "nbconvert_exporter": "python",
   "pygments_lexer": "ipython3",
   "version": "3.8.17"
  },
  "toc": {
   "base_numbering": 1,
   "nav_menu": {},
   "number_sections": true,
   "sideBar": true,
   "skip_h1_title": false,
   "title_cell": "Table of Contents",
   "title_sidebar": "Contents",
   "toc_cell": false,
   "toc_position": {},
   "toc_section_display": true,
   "toc_window_display": false
  }
 },
 "nbformat": 4,
 "nbformat_minor": 5
}
